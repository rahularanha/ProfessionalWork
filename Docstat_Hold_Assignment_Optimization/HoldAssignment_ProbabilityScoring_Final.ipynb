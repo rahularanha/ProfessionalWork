{
 "cells": [
  {
   "cell_type": "code",
   "execution_count": 1,
   "metadata": {},
   "outputs": [],
   "source": [
    "%matplotlib inline\n",
    "\n",
    "import numpy as np\n",
    "import pandas as pd\n",
    "import matplotlib as plt\n",
    "from datetime import datetime as dt\n",
    "import seaborn as sns\n",
    "sns.set()"
   ]
  },
  {
   "cell_type": "code",
   "execution_count": 2,
   "metadata": {},
   "outputs": [
    {
     "data": {
      "text/html": [
       "<div>\n",
       "<style scoped>\n",
       "    .dataframe tbody tr th:only-of-type {\n",
       "        vertical-align: middle;\n",
       "    }\n",
       "\n",
       "    .dataframe tbody tr th {\n",
       "        vertical-align: top;\n",
       "    }\n",
       "\n",
       "    .dataframe thead th {\n",
       "        text-align: right;\n",
       "    }\n",
       "</style>\n",
       "<table border=\"1\" class=\"dataframe\">\n",
       "  <thead>\n",
       "    <tr style=\"text-align: right;\">\n",
       "      <th></th>\n",
       "      <th>order_id</th>\n",
       "      <th>case_id</th>\n",
       "      <th>order_placed_at</th>\n",
       "      <th>delivery_pincode</th>\n",
       "      <th>order_source</th>\n",
       "      <th>is_add_to_cart</th>\n",
       "      <th>is_courier</th>\n",
       "      <th>supplier_city_name</th>\n",
       "      <th>user_type_monthly</th>\n",
       "      <th>chronic_flag_old</th>\n",
       "      <th>...</th>\n",
       "      <th>task_assigned_at</th>\n",
       "      <th>task_actioned_at</th>\n",
       "      <th>task_action</th>\n",
       "      <th>reject_reason</th>\n",
       "      <th>next_task_assigned_at</th>\n",
       "      <th>call_initiated_flag</th>\n",
       "      <th>call_answered_flag</th>\n",
       "      <th>success_flag</th>\n",
       "      <th>attempt_number</th>\n",
       "      <th>attempt_number_last</th>\n",
       "    </tr>\n",
       "  </thead>\n",
       "  <tbody>\n",
       "    <tr>\n",
       "      <th>0</th>\n",
       "      <td>13212626</td>\n",
       "      <td>2894223</td>\n",
       "      <td>2019-11-01 01:29:23</td>\n",
       "      <td>452010</td>\n",
       "      <td>Android_App</td>\n",
       "      <td>True</td>\n",
       "      <td>True</td>\n",
       "      <td>Ahmedabad</td>\n",
       "      <td>New User</td>\n",
       "      <td>1</td>\n",
       "      <td>...</td>\n",
       "      <td>2019-11-01 10:37:00</td>\n",
       "      <td>2019-11-01 10:38:57</td>\n",
       "      <td>Rx Prescribed</td>\n",
       "      <td>NaN</td>\n",
       "      <td>NaN</td>\n",
       "      <td>1</td>\n",
       "      <td>1</td>\n",
       "      <td>1</td>\n",
       "      <td>1</td>\n",
       "      <td>1</td>\n",
       "    </tr>\n",
       "    <tr>\n",
       "      <th>1</th>\n",
       "      <td>13212644</td>\n",
       "      <td>2894234</td>\n",
       "      <td>2019-11-01 01:34:32</td>\n",
       "      <td>786125</td>\n",
       "      <td>Android_App</td>\n",
       "      <td>True</td>\n",
       "      <td>True</td>\n",
       "      <td>Kolkata</td>\n",
       "      <td>New User</td>\n",
       "      <td>0</td>\n",
       "      <td>...</td>\n",
       "      <td>2019-11-01 12:10:46</td>\n",
       "      <td>2019-11-01 12:14:38</td>\n",
       "      <td>Rx Prescribed</td>\n",
       "      <td>NaN</td>\n",
       "      <td>NaN</td>\n",
       "      <td>1</td>\n",
       "      <td>1</td>\n",
       "      <td>1</td>\n",
       "      <td>2</td>\n",
       "      <td>1</td>\n",
       "    </tr>\n",
       "    <tr>\n",
       "      <th>2</th>\n",
       "      <td>13212644</td>\n",
       "      <td>2894234</td>\n",
       "      <td>2019-11-01 01:34:32</td>\n",
       "      <td>786125</td>\n",
       "      <td>Android_App</td>\n",
       "      <td>True</td>\n",
       "      <td>True</td>\n",
       "      <td>Kolkata</td>\n",
       "      <td>New User</td>\n",
       "      <td>0</td>\n",
       "      <td>...</td>\n",
       "      <td>2019-11-01 10:37:31</td>\n",
       "      <td>2019-11-01 10:39:42</td>\n",
       "      <td>Hold</td>\n",
       "      <td>Patient did not pick up</td>\n",
       "      <td>2019-11-01 12:10:46</td>\n",
       "      <td>1</td>\n",
       "      <td>0</td>\n",
       "      <td>0</td>\n",
       "      <td>1</td>\n",
       "      <td>2</td>\n",
       "    </tr>\n",
       "    <tr>\n",
       "      <th>3</th>\n",
       "      <td>13212731</td>\n",
       "      <td>2894266</td>\n",
       "      <td>2019-11-01 02:05:20</td>\n",
       "      <td>410502</td>\n",
       "      <td>Android_App</td>\n",
       "      <td>True</td>\n",
       "      <td>True</td>\n",
       "      <td>Mumbai</td>\n",
       "      <td>Placed_but_not_fulfilled</td>\n",
       "      <td>1</td>\n",
       "      <td>...</td>\n",
       "      <td>2019-11-01 10:39:13</td>\n",
       "      <td>2019-11-01 10:40:55</td>\n",
       "      <td>Rx Prescribed</td>\n",
       "      <td>NaN</td>\n",
       "      <td>NaN</td>\n",
       "      <td>1</td>\n",
       "      <td>1</td>\n",
       "      <td>1</td>\n",
       "      <td>1</td>\n",
       "      <td>1</td>\n",
       "    </tr>\n",
       "    <tr>\n",
       "      <th>4</th>\n",
       "      <td>13212854</td>\n",
       "      <td>2894374</td>\n",
       "      <td>2019-11-01 03:50:28</td>\n",
       "      <td>201001</td>\n",
       "      <td>Mobile_Website</td>\n",
       "      <td>True</td>\n",
       "      <td>False</td>\n",
       "      <td>Gurgaon</td>\n",
       "      <td>New User</td>\n",
       "      <td>0</td>\n",
       "      <td>...</td>\n",
       "      <td>2019-11-01 12:11:40</td>\n",
       "      <td>2019-11-01 12:12:53</td>\n",
       "      <td>Rx Prescribed</td>\n",
       "      <td>NaN</td>\n",
       "      <td>NaN</td>\n",
       "      <td>1</td>\n",
       "      <td>1</td>\n",
       "      <td>1</td>\n",
       "      <td>2</td>\n",
       "      <td>1</td>\n",
       "    </tr>\n",
       "  </tbody>\n",
       "</table>\n",
       "<p>5 rows × 31 columns</p>\n",
       "</div>"
      ],
      "text/plain": [
       "   order_id  case_id      order_placed_at  delivery_pincode    order_source  \\\n",
       "0  13212626  2894223  2019-11-01 01:29:23            452010     Android_App   \n",
       "1  13212644  2894234  2019-11-01 01:34:32            786125     Android_App   \n",
       "2  13212644  2894234  2019-11-01 01:34:32            786125     Android_App   \n",
       "3  13212731  2894266  2019-11-01 02:05:20            410502     Android_App   \n",
       "4  13212854  2894374  2019-11-01 03:50:28            201001  Mobile_Website   \n",
       "\n",
       "   is_add_to_cart  is_courier supplier_city_name         user_type_monthly  \\\n",
       "0            True        True          Ahmedabad                  New User   \n",
       "1            True        True            Kolkata                  New User   \n",
       "2            True        True            Kolkata                  New User   \n",
       "3            True        True             Mumbai  Placed_but_not_fulfilled   \n",
       "4            True       False            Gurgaon                  New User   \n",
       "\n",
       "   chronic_flag_old         ...              task_assigned_at  \\\n",
       "0                 1         ...           2019-11-01 10:37:00   \n",
       "1                 0         ...           2019-11-01 12:10:46   \n",
       "2                 0         ...           2019-11-01 10:37:31   \n",
       "3                 1         ...           2019-11-01 10:39:13   \n",
       "4                 0         ...           2019-11-01 12:11:40   \n",
       "\n",
       "      task_actioned_at    task_action            reject_reason  \\\n",
       "0  2019-11-01 10:38:57  Rx Prescribed                      NaN   \n",
       "1  2019-11-01 12:14:38  Rx Prescribed                      NaN   \n",
       "2  2019-11-01 10:39:42           Hold  Patient did not pick up   \n",
       "3  2019-11-01 10:40:55  Rx Prescribed                      NaN   \n",
       "4  2019-11-01 12:12:53  Rx Prescribed                      NaN   \n",
       "\n",
       "   next_task_assigned_at  call_initiated_flag call_answered_flag success_flag  \\\n",
       "0                    NaN                    1                  1            1   \n",
       "1                    NaN                    1                  1            1   \n",
       "2    2019-11-01 12:10:46                    1                  0            0   \n",
       "3                    NaN                    1                  1            1   \n",
       "4                    NaN                    1                  1            1   \n",
       "\n",
       "  attempt_number  attempt_number_last  \n",
       "0              1                    1  \n",
       "1              2                    1  \n",
       "2              1                    2  \n",
       "3              1                    1  \n",
       "4              2                    1  \n",
       "\n",
       "[5 rows x 31 columns]"
      ]
     },
     "execution_count": 2,
     "metadata": {},
     "output_type": "execute_result"
    }
   ],
   "source": [
    "df = pd.read_csv(\"Docstat_Order_Attempt_LevelData_final.csv\")\n",
    "store_df = df.copy()\n",
    "df.head()"
   ]
  },
  {
   "cell_type": "code",
   "execution_count": 4,
   "metadata": {},
   "outputs": [],
   "source": [
    "#df.count()"
   ]
  },
  {
   "cell_type": "code",
   "execution_count": 315,
   "metadata": {},
   "outputs": [],
   "source": [
    "#store_df['attempt_number'].value_counts()"
   ]
  },
  {
   "cell_type": "code",
   "execution_count": 3,
   "metadata": {},
   "outputs": [],
   "source": [
    "df['task_assigned_at'] = pd.to_datetime(df['task_assigned_at'])\n",
    "df['task_assigned_hour'] = df.task_assigned_at.dt.hour\n",
    "df=df[df['attempt_number']>=2]\n",
    "#df['attempt_number'].value_counts()"
   ]
  },
  {
   "cell_type": "code",
   "execution_count": 141,
   "metadata": {
    "scrolled": true
   },
   "outputs": [
    {
     "name": "stdout",
     "output_type": "stream",
     "text": [
      "<class 'pandas.core.frame.DataFrame'>\n",
      "Int64Index: 248122 entries, 1 to 655925\n",
      "Data columns (total 32 columns):\n",
      "order_id                        248122 non-null int64\n",
      "case_id                         248122 non-null int64\n",
      "order_placed_at                 248122 non-null object\n",
      "delivery_pincode                248122 non-null int64\n",
      "order_source                    248122 non-null object\n",
      "is_add_to_cart                  248122 non-null bool\n",
      "is_courier                      248122 non-null bool\n",
      "supplier_city_name              248122 non-null object\n",
      "user_type_monthly               248122 non-null object\n",
      "chronic_flag_old                248122 non-null int64\n",
      "customer_type                   248122 non-null object\n",
      "successful_consultation_type    248122 non-null object\n",
      "first_moved_to_dp_at            248122 non-null object\n",
      "instances_moved_to_dp           248122 non-null int64\n",
      "num_of_doc_attempts             248122 non-null int64\n",
      "num_of_times_on_hold            248122 non-null int64\n",
      "dp_order_source                 248122 non-null object\n",
      "task_id                         248122 non-null object\n",
      "doctor_name                     248122 non-null object\n",
      "doctor_inactive_flag            248122 non-null int64\n",
      "doctor_notified_count           248122 non-null int64\n",
      "task_assigned_at                248122 non-null datetime64[ns]\n",
      "task_actioned_at                248122 non-null object\n",
      "task_action                     248122 non-null object\n",
      "reject_reason                   134201 non-null object\n",
      "next_task_assigned_at           124070 non-null object\n",
      "call_initiated_flag             248122 non-null int64\n",
      "call_answered_flag              248122 non-null int64\n",
      "success_flag                    248122 non-null int64\n",
      "attempt_number                  248122 non-null int64\n",
      "attempt_number_last             248122 non-null int64\n",
      "task_assigned_hour              248122 non-null int64\n",
      "dtypes: bool(2), datetime64[ns](1), int64(15), object(14)\n",
      "memory usage: 59.2+ MB\n"
     ]
    }
   ],
   "source": [
    "df.info()"
   ]
  },
  {
   "cell_type": "code",
   "execution_count": 4,
   "metadata": {},
   "outputs": [],
   "source": [
    "def prob_table(df, row, col='task_assigned_hour') :\n",
    "    \n",
    "    temp = df.pivot_table(index=row, columns='task_assigned_hour', values='success_flag', aggfunc='mean')\n",
    "    temp.fillna(0,inplace=True)\n",
    "    temp = temp.replace(to_replace=0.0, value =0.2)\n",
    "    temp = temp.replace(to_replace=1.0, value =0.5)\n",
    "    temp.index = temp.index.map(str)\n",
    "    \n",
    "    return temp #.drop(row,axis=1)"
   ]
  },
  {
   "cell_type": "code",
   "execution_count": 5,
   "metadata": {},
   "outputs": [],
   "source": [
    "prob_dict = {}\n",
    "    \n",
    "prob_dict.update(is_add_to_cart=prob_table(df, 'is_add_to_cart'))\n",
    "prob_dict.update(is_courier=prob_table(df, 'is_courier'))\n",
    "prob_dict.update(supplier_city_name=prob_table(df, 'supplier_city_name'))\n",
    "prob_dict.update(order_source=prob_table(df, 'order_source'))\n",
    "prob_dict.update(user_type_monthly=prob_table(df, 'user_type_monthly'))\n",
    "prob_dict.update(chronic_flag_old=prob_table(df, 'chronic_flag_old'))\n",
    "prob_dict.update(customer_type=prob_table(df, 'customer_type'))\n",
    "prob_dict.update(attempt_number=prob_table(df, 'attempt_number'))\n",
    "prob_dict.update(successful_consultation_type=prob_table(df, 'successful_consultation_type'))\n",
    "prob_dict.update(dp_order_source=prob_table(df, 'dp_order_source'))"
   ]
  },
  {
   "cell_type": "code",
   "execution_count": 6,
   "metadata": {},
   "outputs": [],
   "source": [
    "#prob_dict_df = pd.DataFrame.from_dict(prob_dict, orient=\"index\")"
   ]
  },
  {
   "cell_type": "code",
   "execution_count": 8,
   "metadata": {},
   "outputs": [],
   "source": [
    "#['prob_is_add_to_cart', 'prob_is_courier', 'prob_supplier_city_name', 'prob_order_source', 'prob_user_type_monthly', 'prob_chronic_flag_old', 'prob_customer_type', 'prob_attempt_number', 'prob_successful_consultation_type', 'prob_dp_order_source']"
   ]
  },
  {
   "cell_type": "code",
   "execution_count": 23,
   "metadata": {},
   "outputs": [
    {
     "data": {
      "text/html": [
       "<div>\n",
       "<style scoped>\n",
       "    .dataframe tbody tr th:only-of-type {\n",
       "        vertical-align: middle;\n",
       "    }\n",
       "\n",
       "    .dataframe tbody tr th {\n",
       "        vertical-align: top;\n",
       "    }\n",
       "\n",
       "    .dataframe thead th {\n",
       "        text-align: right;\n",
       "    }\n",
       "</style>\n",
       "<table border=\"1\" class=\"dataframe\">\n",
       "  <thead>\n",
       "    <tr style=\"text-align: right;\">\n",
       "      <th></th>\n",
       "      <th>success_flag</th>\n",
       "    </tr>\n",
       "    <tr>\n",
       "      <th>attempt_number</th>\n",
       "      <th></th>\n",
       "    </tr>\n",
       "  </thead>\n",
       "  <tbody>\n",
       "    <tr>\n",
       "      <th>2</th>\n",
       "      <td>0.524134</td>\n",
       "    </tr>\n",
       "    <tr>\n",
       "      <th>3</th>\n",
       "      <td>0.454757</td>\n",
       "    </tr>\n",
       "    <tr>\n",
       "      <th>4</th>\n",
       "      <td>0.374577</td>\n",
       "    </tr>\n",
       "    <tr>\n",
       "      <th>5</th>\n",
       "      <td>0.295421</td>\n",
       "    </tr>\n",
       "    <tr>\n",
       "      <th>6</th>\n",
       "      <td>0.239716</td>\n",
       "    </tr>\n",
       "    <tr>\n",
       "      <th>7</th>\n",
       "      <td>0.301913</td>\n",
       "    </tr>\n",
       "    <tr>\n",
       "      <th>8</th>\n",
       "      <td>0.315928</td>\n",
       "    </tr>\n",
       "    <tr>\n",
       "      <th>9</th>\n",
       "      <td>0.350282</td>\n",
       "    </tr>\n",
       "    <tr>\n",
       "      <th>10</th>\n",
       "      <td>0.367647</td>\n",
       "    </tr>\n",
       "    <tr>\n",
       "      <th>11</th>\n",
       "      <td>0.692308</td>\n",
       "    </tr>\n",
       "    <tr>\n",
       "      <th>12</th>\n",
       "      <td>0.166667</td>\n",
       "    </tr>\n",
       "    <tr>\n",
       "      <th>13</th>\n",
       "      <td>0.750000</td>\n",
       "    </tr>\n",
       "    <tr>\n",
       "      <th>14</th>\n",
       "      <td>0.000000</td>\n",
       "    </tr>\n",
       "    <tr>\n",
       "      <th>15</th>\n",
       "      <td>0.000000</td>\n",
       "    </tr>\n",
       "  </tbody>\n",
       "</table>\n",
       "</div>"
      ],
      "text/plain": [
       "                success_flag\n",
       "attempt_number              \n",
       "2                   0.524134\n",
       "3                   0.454757\n",
       "4                   0.374577\n",
       "5                   0.295421\n",
       "6                   0.239716\n",
       "7                   0.301913\n",
       "8                   0.315928\n",
       "9                   0.350282\n",
       "10                  0.367647\n",
       "11                  0.692308\n",
       "12                  0.166667\n",
       "13                  0.750000\n",
       "14                  0.000000\n",
       "15                  0.000000"
      ]
     },
     "execution_count": 23,
     "metadata": {},
     "output_type": "execute_result"
    }
   ],
   "source": [
    "df.pivot_table(index='attempt_number', values='success_flag', aggfunc='mean') #columns='task_assigned_hour',"
   ]
  },
  {
   "cell_type": "code",
   "execution_count": 10,
   "metadata": {},
   "outputs": [
    {
     "data": {
      "text/html": [
       "<div>\n",
       "<style scoped>\n",
       "    .dataframe tbody tr th:only-of-type {\n",
       "        vertical-align: middle;\n",
       "    }\n",
       "\n",
       "    .dataframe tbody tr th {\n",
       "        vertical-align: top;\n",
       "    }\n",
       "\n",
       "    .dataframe thead th {\n",
       "        text-align: right;\n",
       "    }\n",
       "</style>\n",
       "<table border=\"1\" class=\"dataframe\">\n",
       "  <thead>\n",
       "    <tr style=\"text-align: right;\">\n",
       "      <th>task_assigned_hour</th>\n",
       "      <th>8</th>\n",
       "      <th>9</th>\n",
       "      <th>10</th>\n",
       "      <th>11</th>\n",
       "      <th>12</th>\n",
       "      <th>13</th>\n",
       "      <th>14</th>\n",
       "      <th>15</th>\n",
       "      <th>16</th>\n",
       "      <th>17</th>\n",
       "      <th>18</th>\n",
       "      <th>19</th>\n",
       "      <th>20</th>\n",
       "      <th>21</th>\n",
       "      <th>22</th>\n",
       "      <th>23</th>\n",
       "    </tr>\n",
       "    <tr>\n",
       "      <th>attempt_number</th>\n",
       "      <th></th>\n",
       "      <th></th>\n",
       "      <th></th>\n",
       "      <th></th>\n",
       "      <th></th>\n",
       "      <th></th>\n",
       "      <th></th>\n",
       "      <th></th>\n",
       "      <th></th>\n",
       "      <th></th>\n",
       "      <th></th>\n",
       "      <th></th>\n",
       "      <th></th>\n",
       "      <th></th>\n",
       "      <th></th>\n",
       "      <th></th>\n",
       "    </tr>\n",
       "  </thead>\n",
       "  <tbody>\n",
       "    <tr>\n",
       "      <th>2</th>\n",
       "      <td>0.514751</td>\n",
       "      <td>0.544616</td>\n",
       "      <td>0.534327</td>\n",
       "      <td>0.532773</td>\n",
       "      <td>0.371643</td>\n",
       "      <td>0.360617</td>\n",
       "      <td>0.546504</td>\n",
       "      <td>0.554705</td>\n",
       "      <td>0.536062</td>\n",
       "      <td>0.553179</td>\n",
       "      <td>0.564031</td>\n",
       "      <td>0.576186</td>\n",
       "      <td>0.592113</td>\n",
       "      <td>0.578204</td>\n",
       "      <td>0.533623</td>\n",
       "      <td>0.75</td>\n",
       "    </tr>\n",
       "    <tr>\n",
       "      <th>3</th>\n",
       "      <td>0.385666</td>\n",
       "      <td>0.492163</td>\n",
       "      <td>0.443051</td>\n",
       "      <td>0.452644</td>\n",
       "      <td>0.498188</td>\n",
       "      <td>0.497960</td>\n",
       "      <td>0.498826</td>\n",
       "      <td>0.458397</td>\n",
       "      <td>0.422469</td>\n",
       "      <td>0.430278</td>\n",
       "      <td>0.453501</td>\n",
       "      <td>0.448000</td>\n",
       "      <td>0.432953</td>\n",
       "      <td>0.411281</td>\n",
       "      <td>0.388098</td>\n",
       "      <td>0.20</td>\n",
       "    </tr>\n",
       "    <tr>\n",
       "      <th>4</th>\n",
       "      <td>0.367521</td>\n",
       "      <td>0.420213</td>\n",
       "      <td>0.383971</td>\n",
       "      <td>0.366153</td>\n",
       "      <td>0.454829</td>\n",
       "      <td>0.422535</td>\n",
       "      <td>0.394148</td>\n",
       "      <td>0.393391</td>\n",
       "      <td>0.358341</td>\n",
       "      <td>0.384340</td>\n",
       "      <td>0.376486</td>\n",
       "      <td>0.363810</td>\n",
       "      <td>0.339227</td>\n",
       "      <td>0.341219</td>\n",
       "      <td>0.271198</td>\n",
       "      <td>0.20</td>\n",
       "    </tr>\n",
       "    <tr>\n",
       "      <th>5</th>\n",
       "      <td>0.313433</td>\n",
       "      <td>0.354839</td>\n",
       "      <td>0.298469</td>\n",
       "      <td>0.286581</td>\n",
       "      <td>0.326347</td>\n",
       "      <td>0.379157</td>\n",
       "      <td>0.329685</td>\n",
       "      <td>0.293495</td>\n",
       "      <td>0.293866</td>\n",
       "      <td>0.314910</td>\n",
       "      <td>0.301126</td>\n",
       "      <td>0.278117</td>\n",
       "      <td>0.267355</td>\n",
       "      <td>0.253205</td>\n",
       "      <td>0.223005</td>\n",
       "      <td>0.20</td>\n",
       "    </tr>\n",
       "    <tr>\n",
       "      <th>6</th>\n",
       "      <td>0.225000</td>\n",
       "      <td>0.469388</td>\n",
       "      <td>0.280335</td>\n",
       "      <td>0.234991</td>\n",
       "      <td>0.293634</td>\n",
       "      <td>0.351562</td>\n",
       "      <td>0.275154</td>\n",
       "      <td>0.223782</td>\n",
       "      <td>0.222793</td>\n",
       "      <td>0.231598</td>\n",
       "      <td>0.252682</td>\n",
       "      <td>0.255585</td>\n",
       "      <td>0.220403</td>\n",
       "      <td>0.213729</td>\n",
       "      <td>0.190551</td>\n",
       "      <td>0.20</td>\n",
       "    </tr>\n",
       "    <tr>\n",
       "      <th>7</th>\n",
       "      <td>0.409836</td>\n",
       "      <td>0.371134</td>\n",
       "      <td>0.429412</td>\n",
       "      <td>0.364929</td>\n",
       "      <td>0.424658</td>\n",
       "      <td>0.299618</td>\n",
       "      <td>0.343662</td>\n",
       "      <td>0.294776</td>\n",
       "      <td>0.245645</td>\n",
       "      <td>0.263682</td>\n",
       "      <td>0.262868</td>\n",
       "      <td>0.322000</td>\n",
       "      <td>0.240084</td>\n",
       "      <td>0.320261</td>\n",
       "      <td>0.336449</td>\n",
       "      <td>0.20</td>\n",
       "    </tr>\n",
       "    <tr>\n",
       "      <th>8</th>\n",
       "      <td>0.240000</td>\n",
       "      <td>0.375000</td>\n",
       "      <td>0.468750</td>\n",
       "      <td>0.421053</td>\n",
       "      <td>0.500000</td>\n",
       "      <td>0.284211</td>\n",
       "      <td>0.320988</td>\n",
       "      <td>0.360465</td>\n",
       "      <td>0.323699</td>\n",
       "      <td>0.236994</td>\n",
       "      <td>0.338983</td>\n",
       "      <td>0.237288</td>\n",
       "      <td>0.271429</td>\n",
       "      <td>0.346939</td>\n",
       "      <td>0.257143</td>\n",
       "      <td>0.20</td>\n",
       "    </tr>\n",
       "    <tr>\n",
       "      <th>9</th>\n",
       "      <td>0.333333</td>\n",
       "      <td>0.400000</td>\n",
       "      <td>0.423077</td>\n",
       "      <td>0.428571</td>\n",
       "      <td>0.483871</td>\n",
       "      <td>0.282609</td>\n",
       "      <td>0.348485</td>\n",
       "      <td>0.300000</td>\n",
       "      <td>0.375000</td>\n",
       "      <td>0.285714</td>\n",
       "      <td>0.372881</td>\n",
       "      <td>0.314815</td>\n",
       "      <td>0.293103</td>\n",
       "      <td>0.342105</td>\n",
       "      <td>0.500000</td>\n",
       "      <td>0.20</td>\n",
       "    </tr>\n",
       "    <tr>\n",
       "      <th>10</th>\n",
       "      <td>0.200000</td>\n",
       "      <td>0.333333</td>\n",
       "      <td>0.428571</td>\n",
       "      <td>0.500000</td>\n",
       "      <td>0.461538</td>\n",
       "      <td>0.416667</td>\n",
       "      <td>0.285714</td>\n",
       "      <td>0.500000</td>\n",
       "      <td>0.583333</td>\n",
       "      <td>0.200000</td>\n",
       "      <td>0.363636</td>\n",
       "      <td>0.285714</td>\n",
       "      <td>0.388889</td>\n",
       "      <td>0.166667</td>\n",
       "      <td>0.200000</td>\n",
       "      <td>0.20</td>\n",
       "    </tr>\n",
       "    <tr>\n",
       "      <th>11</th>\n",
       "      <td>0.500000</td>\n",
       "      <td>0.200000</td>\n",
       "      <td>0.500000</td>\n",
       "      <td>0.500000</td>\n",
       "      <td>0.500000</td>\n",
       "      <td>0.500000</td>\n",
       "      <td>0.500000</td>\n",
       "      <td>0.200000</td>\n",
       "      <td>0.750000</td>\n",
       "      <td>0.500000</td>\n",
       "      <td>0.750000</td>\n",
       "      <td>0.500000</td>\n",
       "      <td>0.200000</td>\n",
       "      <td>0.500000</td>\n",
       "      <td>0.500000</td>\n",
       "      <td>0.20</td>\n",
       "    </tr>\n",
       "    <tr>\n",
       "      <th>12</th>\n",
       "      <td>0.200000</td>\n",
       "      <td>0.200000</td>\n",
       "      <td>0.200000</td>\n",
       "      <td>0.200000</td>\n",
       "      <td>0.200000</td>\n",
       "      <td>0.500000</td>\n",
       "      <td>0.200000</td>\n",
       "      <td>0.200000</td>\n",
       "      <td>0.200000</td>\n",
       "      <td>0.200000</td>\n",
       "      <td>0.200000</td>\n",
       "      <td>0.200000</td>\n",
       "      <td>0.200000</td>\n",
       "      <td>0.200000</td>\n",
       "      <td>0.200000</td>\n",
       "      <td>0.20</td>\n",
       "    </tr>\n",
       "    <tr>\n",
       "      <th>13</th>\n",
       "      <td>0.200000</td>\n",
       "      <td>0.500000</td>\n",
       "      <td>0.200000</td>\n",
       "      <td>0.200000</td>\n",
       "      <td>0.500000</td>\n",
       "      <td>0.200000</td>\n",
       "      <td>0.200000</td>\n",
       "      <td>0.200000</td>\n",
       "      <td>0.200000</td>\n",
       "      <td>0.200000</td>\n",
       "      <td>0.500000</td>\n",
       "      <td>0.200000</td>\n",
       "      <td>0.200000</td>\n",
       "      <td>0.200000</td>\n",
       "      <td>0.200000</td>\n",
       "      <td>0.20</td>\n",
       "    </tr>\n",
       "    <tr>\n",
       "      <th>14</th>\n",
       "      <td>0.200000</td>\n",
       "      <td>0.200000</td>\n",
       "      <td>0.200000</td>\n",
       "      <td>0.200000</td>\n",
       "      <td>0.200000</td>\n",
       "      <td>0.200000</td>\n",
       "      <td>0.200000</td>\n",
       "      <td>0.200000</td>\n",
       "      <td>0.200000</td>\n",
       "      <td>0.200000</td>\n",
       "      <td>0.200000</td>\n",
       "      <td>0.200000</td>\n",
       "      <td>0.200000</td>\n",
       "      <td>0.200000</td>\n",
       "      <td>0.200000</td>\n",
       "      <td>0.20</td>\n",
       "    </tr>\n",
       "    <tr>\n",
       "      <th>15</th>\n",
       "      <td>0.200000</td>\n",
       "      <td>0.200000</td>\n",
       "      <td>0.200000</td>\n",
       "      <td>0.200000</td>\n",
       "      <td>0.200000</td>\n",
       "      <td>0.200000</td>\n",
       "      <td>0.200000</td>\n",
       "      <td>0.200000</td>\n",
       "      <td>0.200000</td>\n",
       "      <td>0.200000</td>\n",
       "      <td>0.200000</td>\n",
       "      <td>0.200000</td>\n",
       "      <td>0.200000</td>\n",
       "      <td>0.200000</td>\n",
       "      <td>0.200000</td>\n",
       "      <td>0.20</td>\n",
       "    </tr>\n",
       "  </tbody>\n",
       "</table>\n",
       "</div>"
      ],
      "text/plain": [
       "task_assigned_hour        8         9         10        11        12  \\\n",
       "attempt_number                                                         \n",
       "2                   0.514751  0.544616  0.534327  0.532773  0.371643   \n",
       "3                   0.385666  0.492163  0.443051  0.452644  0.498188   \n",
       "4                   0.367521  0.420213  0.383971  0.366153  0.454829   \n",
       "5                   0.313433  0.354839  0.298469  0.286581  0.326347   \n",
       "6                   0.225000  0.469388  0.280335  0.234991  0.293634   \n",
       "7                   0.409836  0.371134  0.429412  0.364929  0.424658   \n",
       "8                   0.240000  0.375000  0.468750  0.421053  0.500000   \n",
       "9                   0.333333  0.400000  0.423077  0.428571  0.483871   \n",
       "10                  0.200000  0.333333  0.428571  0.500000  0.461538   \n",
       "11                  0.500000  0.200000  0.500000  0.500000  0.500000   \n",
       "12                  0.200000  0.200000  0.200000  0.200000  0.200000   \n",
       "13                  0.200000  0.500000  0.200000  0.200000  0.500000   \n",
       "14                  0.200000  0.200000  0.200000  0.200000  0.200000   \n",
       "15                  0.200000  0.200000  0.200000  0.200000  0.200000   \n",
       "\n",
       "task_assigned_hour        13        14        15        16        17  \\\n",
       "attempt_number                                                         \n",
       "2                   0.360617  0.546504  0.554705  0.536062  0.553179   \n",
       "3                   0.497960  0.498826  0.458397  0.422469  0.430278   \n",
       "4                   0.422535  0.394148  0.393391  0.358341  0.384340   \n",
       "5                   0.379157  0.329685  0.293495  0.293866  0.314910   \n",
       "6                   0.351562  0.275154  0.223782  0.222793  0.231598   \n",
       "7                   0.299618  0.343662  0.294776  0.245645  0.263682   \n",
       "8                   0.284211  0.320988  0.360465  0.323699  0.236994   \n",
       "9                   0.282609  0.348485  0.300000  0.375000  0.285714   \n",
       "10                  0.416667  0.285714  0.500000  0.583333  0.200000   \n",
       "11                  0.500000  0.500000  0.200000  0.750000  0.500000   \n",
       "12                  0.500000  0.200000  0.200000  0.200000  0.200000   \n",
       "13                  0.200000  0.200000  0.200000  0.200000  0.200000   \n",
       "14                  0.200000  0.200000  0.200000  0.200000  0.200000   \n",
       "15                  0.200000  0.200000  0.200000  0.200000  0.200000   \n",
       "\n",
       "task_assigned_hour        18        19        20        21        22    23  \n",
       "attempt_number                                                              \n",
       "2                   0.564031  0.576186  0.592113  0.578204  0.533623  0.75  \n",
       "3                   0.453501  0.448000  0.432953  0.411281  0.388098  0.20  \n",
       "4                   0.376486  0.363810  0.339227  0.341219  0.271198  0.20  \n",
       "5                   0.301126  0.278117  0.267355  0.253205  0.223005  0.20  \n",
       "6                   0.252682  0.255585  0.220403  0.213729  0.190551  0.20  \n",
       "7                   0.262868  0.322000  0.240084  0.320261  0.336449  0.20  \n",
       "8                   0.338983  0.237288  0.271429  0.346939  0.257143  0.20  \n",
       "9                   0.372881  0.314815  0.293103  0.342105  0.500000  0.20  \n",
       "10                  0.363636  0.285714  0.388889  0.166667  0.200000  0.20  \n",
       "11                  0.750000  0.500000  0.200000  0.500000  0.500000  0.20  \n",
       "12                  0.200000  0.200000  0.200000  0.200000  0.200000  0.20  \n",
       "13                  0.500000  0.200000  0.200000  0.200000  0.200000  0.20  \n",
       "14                  0.200000  0.200000  0.200000  0.200000  0.200000  0.20  \n",
       "15                  0.200000  0.200000  0.200000  0.200000  0.200000  0.20  "
      ]
     },
     "execution_count": 10,
     "metadata": {},
     "output_type": "execute_result"
    }
   ],
   "source": [
    "prob_dict['attempt_number']\n",
    "#['prob_is_add_to_cart', 'prob_is_courier', 'prob_supplier_city_name', 'prob_order_source', 'prob_user_type_monthly', 'prob_chronic_flag_old', 'prob_customer_type', 'prob_attempt_number', 'prob_successful_consultation_type', 'prob_dp_order_source']\n",
    "#df.pivot_table(index='is_courier', columns='task_assigned_hour', values='success_flag', aggfunc='mean')"
   ]
  },
  {
   "cell_type": "code",
   "execution_count": 42,
   "metadata": {},
   "outputs": [],
   "source": [
    "testing_df = pd.read_csv(\"Docstat_Order_Attempt_LevelData_final_test.csv\")\n",
    "store_testing_df = testing_df.copy()"
   ]
  },
  {
   "cell_type": "code",
   "execution_count": 67,
   "metadata": {},
   "outputs": [],
   "source": [
    "testing_df=testing_df[testing_df['attempt_number']>=2]\n",
    "\n",
    "testing_df['task_assigned_at'] = pd.to_datetime(testing_df['task_assigned_at'])\n",
    "testing_df['task_assigned_date'] = testing_df['task_assigned_at'].dt.date\n",
    "testing_df['task_assigned_hour'] = testing_df.task_assigned_at.dt.hour\n",
    "\n",
    "testing_df['attempt_number_og'] = testing_df['attempt_number']\n",
    "testing_df.loc[testing_df.attempt_number>=7,'attempt_number']=6"
   ]
  },
  {
   "cell_type": "code",
   "execution_count": null,
   "metadata": {},
   "outputs": [],
   "source": []
  },
  {
   "cell_type": "code",
   "execution_count": 55,
   "metadata": {},
   "outputs": [],
   "source": [
    "testing_df = df.copy()"
   ]
  },
  {
   "cell_type": "code",
   "execution_count": 56,
   "metadata": {},
   "outputs": [],
   "source": [
    "testing_df['attempt_number_og'] = testing_df['attempt_number']\n",
    "testing_df.loc[testing_df.attempt_number>=7,'attempt_number']=6\n",
    "testing_df['task_assigned_date'] = testing_df['task_assigned_at'].dt.date"
   ]
  },
  {
   "cell_type": "code",
   "execution_count": 130,
   "metadata": {},
   "outputs": [],
   "source": [
    "#testing_df['prob_atc'] = testing_df.lookup(test_df['is_add_to_cart'].astype(str), test_df['task_assigned_hour'])\n",
    "#testing_df['supplier_city_name'].value_counts()\n",
    "#prob_dict['is_add_to_cart']"
   ]
  },
  {
   "cell_type": "code",
   "execution_count": 57,
   "metadata": {},
   "outputs": [],
   "source": [
    "def prob_values(testing_df, feature):\n",
    "    \n",
    "    testing_df['prob_'+feature] = prob_dict[feature].lookup(testing_df[feature].astype(str), testing_df['task_assigned_hour'])\n",
    "    \n",
    "    "
   ]
  },
  {
   "cell_type": "code",
   "execution_count": 58,
   "metadata": {},
   "outputs": [],
   "source": [
    "prob_values(testing_df, 'is_add_to_cart')\n",
    "prob_values(testing_df, 'is_courier')\n",
    "prob_values(testing_df, 'supplier_city_name')\n",
    "prob_values(testing_df, 'order_source')\n",
    "prob_values(testing_df, 'user_type_monthly')\n",
    "prob_values(testing_df, 'chronic_flag_old')\n",
    "prob_values(testing_df, 'customer_type')\n",
    "prob_values(testing_df, 'attempt_number')\n",
    "prob_values(testing_df, 'successful_consultation_type')\n",
    "prob_values(testing_df, 'dp_order_source')"
   ]
  },
  {
   "cell_type": "code",
   "execution_count": 22,
   "metadata": {
    "scrolled": true
   },
   "outputs": [],
   "source": [
    "#testing_df[['prob_is_add_to_cart', 'prob_is_courier', 'prob_supplier_city_name', 'prob_order_source', 'prob_user_type_monthly', 'prob_chronic_flag_old', 'prob_customer_type', 'prob_attempt_number', 'prob_successful_consultation_type', 'prob_dp_order_source']].values.prod(axis=1)"
   ]
  },
  {
   "cell_type": "code",
   "execution_count": 59,
   "metadata": {},
   "outputs": [],
   "source": [
    "# prob_is_add_to_cart                  131063 non-null float64\n",
    "# prob_is_courier                      131063 non-null float64\n",
    "# prob_supplier_city_name              131063 non-null float64\n",
    "# prob_order_source                    131063 non-null float64\n",
    "# prob_user_type_monthly               131063 non-null float64\n",
    "# prob_chronic_flag_old                131063 non-null float64\n",
    "# prob_customer_type                   131063 non-null float64\n",
    "# prob_attempt_number                  131063 non-null float64\n",
    "# prob_successful_consultation_type    131063 non-null float64\n",
    "# prob_dp_order_source \n",
    "\n",
    "testing_df['total_prob_score'] = testing_df[['prob_is_add_to_cart', 'prob_is_courier', 'prob_supplier_city_name', 'prob_order_source', 'prob_user_type_monthly', 'prob_chronic_flag_old', 'prob_customer_type', 'prob_attempt_number', 'prob_successful_consultation_type', 'prob_dp_order_source']].values.prod(axis=1)"
   ]
  },
  {
   "cell_type": "code",
   "execution_count": 60,
   "metadata": {},
   "outputs": [],
   "source": [
    "#testing_df.info()\n",
    "testing_df['percentil_60'] = testing_df.groupby(['task_assigned_date','task_assigned_hour'])['total_prob_score'].transform(lambda x: x.quantile(.4))\n",
    "testing_df['percentil_50'] = testing_df.groupby(['task_assigned_date','task_assigned_hour'])['total_prob_score'].transform(lambda x: x.quantile(.5))\n",
    "testing_df['percentil_40'] = testing_df.groupby(['task_assigned_date','task_assigned_hour'])['total_prob_score'].transform(lambda x: x.quantile(.6))\n",
    "testing_df['percentil_30'] = testing_df.groupby(['task_assigned_date','task_assigned_hour'])['total_prob_score'].transform(lambda x: x.quantile(.7))\n",
    "testing_df['percentil_20'] = testing_df.groupby(['task_assigned_date','task_assigned_hour'])['total_prob_score'].transform(lambda x: x.quantile(.8))\n",
    "testing_df['percentil_10'] = testing_df.groupby(['task_assigned_date','task_assigned_hour'])['total_prob_score'].transform(lambda x: x.quantile(.9))\n"
   ]
  },
  {
   "cell_type": "code",
   "execution_count": 61,
   "metadata": {},
   "outputs": [],
   "source": [
    "testing_df.loc[testing_df['total_prob_score']>=testing_df['percentil_60'],'pred_top_60_success']=1\n",
    "testing_df.loc[testing_df['total_prob_score']<testing_df['percentil_60'],'pred_top_60_success']=0\n",
    "\n",
    "testing_df.loc[testing_df['total_prob_score']>=testing_df['percentil_50'],'pred_top_50_success']=1\n",
    "testing_df.loc[testing_df['total_prob_score']<testing_df['percentil_50'],'pred_top_50_success']=0\n",
    "\n",
    "testing_df.loc[testing_df['total_prob_score']>=testing_df['percentil_40'],'pred_top_40_success']=1\n",
    "testing_df.loc[testing_df['total_prob_score']<testing_df['percentil_40'],'pred_top_40_success']=0\n",
    "\n",
    "testing_df.loc[testing_df['total_prob_score']>=testing_df['percentil_30'],'pred_top_30_success']=1\n",
    "testing_df.loc[testing_df['total_prob_score']<testing_df['percentil_30'],'pred_top_30_success']=0\n",
    "\n",
    "testing_df.loc[testing_df['total_prob_score']>=testing_df['percentil_20'],'pred_top_20_success']=1\n",
    "testing_df.loc[testing_df['total_prob_score']<testing_df['percentil_20'],'pred_top_20_success']=0\n",
    "\n",
    "testing_df.loc[testing_df['total_prob_score']>=testing_df['percentil_10'],'pred_top_10_success']=1\n",
    "testing_df.loc[testing_df['total_prob_score']<testing_df['percentil_10'],'pred_top_10_success']=0"
   ]
  },
  {
   "cell_type": "code",
   "execution_count": 62,
   "metadata": {},
   "outputs": [],
   "source": [
    "testing_df.loc[testing_df['success_flag']==0,'tp_top_60_success']=0\n",
    "testing_df.loc[testing_df['success_flag']==0,'tp_top_50_success']=0\n",
    "testing_df.loc[testing_df['success_flag']==0,'tp_top_40_success']=0\n",
    "testing_df.loc[testing_df['success_flag']==0,'tp_top_30_success']=0\n",
    "testing_df.loc[testing_df['success_flag']==0,'tp_top_20_success']=0\n",
    "testing_df.loc[testing_df['success_flag']==0,'tp_top_10_success']=0\n",
    "\n",
    "testing_df.loc[(testing_df['pred_top_60_success']==1) & (testing_df['success_flag']==1),'tp_top_60_success']=1\n",
    "testing_df.loc[testing_df['pred_top_60_success']==0,'tp_top_60_success']=0\n",
    "\n",
    "testing_df.loc[(testing_df['pred_top_50_success']==1) & (testing_df['success_flag']==1),'tp_top_50_success']=1\n",
    "testing_df.loc[testing_df['pred_top_50_success']==0,'tp_top_50_success']=0\n",
    "\n",
    "testing_df.loc[(testing_df['pred_top_40_success']==1) & (testing_df['success_flag']==1),'tp_top_40_success']=1\n",
    "testing_df.loc[testing_df['pred_top_40_success']==0,'tp_top_40_success']=0\n",
    "\n",
    "testing_df.loc[(testing_df['pred_top_30_success']==1) & (testing_df['success_flag']==1),'tp_top_30_success']=1\n",
    "testing_df.loc[testing_df['pred_top_30_success']==0,'tp_top_30_success']=0\n",
    "\n",
    "testing_df.loc[(testing_df['pred_top_20_success']==1) & (testing_df['success_flag']==1),'tp_top_20_success']=1\n",
    "testing_df.loc[testing_df['pred_top_20_success']==0,'tp_top_20_success']=0\n",
    "\n",
    "testing_df.loc[(testing_df['pred_top_10_success']==1) & (testing_df['success_flag']==1),'tp_top_10_success']=1\n",
    "testing_df.loc[testing_df['pred_top_10_success']==0,'tp_top_10_success']=0\n"
   ]
  },
  {
   "cell_type": "code",
   "execution_count": 63,
   "metadata": {},
   "outputs": [],
   "source": [
    "testing_df.to_csv(\"Final_latest_train_check.csv\")"
   ]
  },
  {
   "cell_type": "code",
   "execution_count": 39,
   "metadata": {},
   "outputs": [
    {
     "data": {
      "text/plain": [
       "False"
      ]
     },
     "execution_count": 39,
     "metadata": {},
     "output_type": "execute_result"
    }
   ],
   "source": [
    "testing_df.tp_top_60_success.isnull().any()"
   ]
  },
  {
   "cell_type": "code",
   "execution_count": null,
   "metadata": {},
   "outputs": [],
   "source": []
  },
  {
   "cell_type": "code",
   "execution_count": null,
   "metadata": {},
   "outputs": [],
   "source": []
  },
  {
   "cell_type": "code",
   "execution_count": null,
   "metadata": {},
   "outputs": [],
   "source": []
  },
  {
   "cell_type": "code",
   "execution_count": null,
   "metadata": {},
   "outputs": [],
   "source": []
  },
  {
   "cell_type": "code",
   "execution_count": null,
   "metadata": {},
   "outputs": [],
   "source": []
  },
  {
   "cell_type": "code",
   "execution_count": null,
   "metadata": {},
   "outputs": [],
   "source": []
  },
  {
   "cell_type": "code",
   "execution_count": null,
   "metadata": {},
   "outputs": [],
   "source": []
  },
  {
   "cell_type": "code",
   "execution_count": null,
   "metadata": {},
   "outputs": [],
   "source": []
  },
  {
   "cell_type": "code",
   "execution_count": null,
   "metadata": {},
   "outputs": [],
   "source": []
  },
  {
   "cell_type": "code",
   "execution_count": null,
   "metadata": {},
   "outputs": [],
   "source": [
    "dftest = testing_df[['prob_is_add_to_cart', 'prob_is_courier', 'prob_supplier_city_name', 'prob_order_source', 'prob_user_type_monthly', 'prob_chronic_flag_old', 'prob_customer_type', 'prob_attempt_number', 'prob_successful_consultation_type', 'prob_dp_order_source']]"
   ]
  },
  {
   "cell_type": "code",
   "execution_count": 66,
   "metadata": {},
   "outputs": [],
   "source": [
    "\n",
    "df1 = dftest.iloc[:,0:3]\n",
    "df1 = pd.concat([df1,testing_df['success_flag']],axis=1)\n",
    "\n",
    "df2 = dftest.iloc[:,3:6]\n",
    "df2 = pd.concat([df2,testing_df['success_flag']],axis=1)\n",
    "\n",
    "df3 = dftest.iloc[:,6:10]\n",
    "df3 = pd.concat([df3,testing_df['success_flag']],axis=1)\n"
   ]
  },
  {
   "cell_type": "code",
   "execution_count": 70,
   "metadata": {
    "scrolled": false
   },
   "outputs": [
    {
     "data": {
      "text/plain": [
       "<matplotlib.axes._subplots.AxesSubplot at 0x19dd215c438>"
      ]
     },
     "execution_count": 70,
     "metadata": {},
     "output_type": "execute_result"
    },
    {
     "data": {
      "image/png": "[encoded data removed]",
      "text/plain": [
       "<Figure size 432x288 with 2 Axes>"
      ]
     },
     "metadata": {},
     "output_type": "display_data"
    }
   ],
   "source": [
    "sns.heatmap(dftest.corr())"
   ]
  },
  {
   "cell_type": "code",
   "execution_count": 88,
   "metadata": {},
   "outputs": [],
   "source": [
    "temp = df.pivot_table(index='task_assigned_hour', columns='is_add_to_cart', values='success_flag', aggfunc='mean')\n",
    "temp.fillna(0,inplace=True)\n",
    "temp.index = temp.index.map(str)"
   ]
  },
  {
   "cell_type": "code",
   "execution_count": 90,
   "metadata": {},
   "outputs": [
    {
     "data": {
      "text/plain": [
       "<matplotlib.axes._subplots.AxesSubplot at 0x19dd6811978>"
      ]
     },
     "execution_count": 90,
     "metadata": {},
     "output_type": "execute_result"
    },
    {
     "data": {
      "image/png": "[encoded data removed]",
      "text/plain": [
       "<Figure size 432x288 with 1 Axes>"
      ]
     },
     "metadata": {},
     "output_type": "display_data"
    }
   ],
   "source": [
    "temp.plot()"
   ]
  },
  {
   "cell_type": "code",
   "execution_count": 91,
   "metadata": {},
   "outputs": [],
   "source": [
    "temp = df.pivot_table(index='task_assigned_hour', columns='is_courier', values='success_flag', aggfunc='mean')\n",
    "temp.fillna(0,inplace=True)\n",
    "temp.index = temp.index.map(str)"
   ]
  },
  {
   "cell_type": "code",
   "execution_count": 92,
   "metadata": {},
   "outputs": [
    {
     "data": {
      "text/plain": [
       "<matplotlib.axes._subplots.AxesSubplot at 0x19ddb9262b0>"
      ]
     },
     "execution_count": 92,
     "metadata": {},
     "output_type": "execute_result"
    },
    {
     "data": {
      "image/png": "[encoded data removed]",
      "text/plain": [
       "<Figure size 432x288 with 1 Axes>"
      ]
     },
     "metadata": {},
     "output_type": "display_data"
    }
   ],
   "source": [
    "temp.plot()"
   ]
  },
  {
   "cell_type": "code",
   "execution_count": 93,
   "metadata": {},
   "outputs": [],
   "source": [
    "temp = df.pivot_table(index='task_assigned_hour', columns='supplier_city_name', values='success_flag', aggfunc='mean')\n",
    "temp.fillna(0,inplace=True)\n",
    "temp.index = temp.index.map(str)"
   ]
  },
  {
   "cell_type": "code",
   "execution_count": 94,
   "metadata": {},
   "outputs": [
    {
     "data": {
      "text/plain": [
       "<matplotlib.axes._subplots.AxesSubplot at 0x19dd6807d68>"
      ]
     },
     "execution_count": 94,
     "metadata": {},
     "output_type": "execute_result"
    },
    {
     "data": {
      "image/png": "[encoded data removed]",
      "text/plain": [
       "<Figure size 432x288 with 1 Axes>"
      ]
     },
     "metadata": {},
     "output_type": "display_data"
    }
   ],
   "source": [
    "temp.plot()"
   ]
  },
  {
   "cell_type": "code",
   "execution_count": 96,
   "metadata": {},
   "outputs": [],
   "source": [
    "temp = df.pivot_table(index='task_assigned_hour', columns='order_source', values='success_flag', aggfunc='mean')\n",
    "temp.fillna(0,inplace=True)\n",
    "temp.index = temp.index.map(str)"
   ]
  },
  {
   "cell_type": "code",
   "execution_count": 97,
   "metadata": {},
   "outputs": [
    {
     "data": {
      "text/plain": [
       "<matplotlib.axes._subplots.AxesSubplot at 0x19dee0c3ac8>"
      ]
     },
     "execution_count": 97,
     "metadata": {},
     "output_type": "execute_result"
    },
    {
     "data": {
      "image/png": "[encoded data removed]",
      "text/plain": [
       "<Figure size 432x288 with 1 Axes>"
      ]
     },
     "metadata": {},
     "output_type": "display_data"
    }
   ],
   "source": [
    "temp.plot()"
   ]
  },
  {
   "cell_type": "code",
   "execution_count": 88,
   "metadata": {},
   "outputs": [],
   "source": [
    "temp = df.pivot_table(index='task_assigned_hour', columns='is_add_to_cart', values='success_flag', aggfunc='mean')\n",
    "temp.fillna(0,inplace=True)\n",
    "temp.index = temp.index.map(str)"
   ]
  },
  {
   "cell_type": "code",
   "execution_count": 90,
   "metadata": {},
   "outputs": [
    {
     "data": {
      "text/plain": [
       "<matplotlib.axes._subplots.AxesSubplot at 0x19dd6811978>"
      ]
     },
     "execution_count": 90,
     "metadata": {},
     "output_type": "execute_result"
    },
    {
     "data": {
      "image/png": "[encoded data removed]",
      "text/plain": [
       "<Figure size 432x288 with 1 Axes>"
      ]
     },
     "metadata": {},
     "output_type": "display_data"
    }
   ],
   "source": [
    "temp.plot()"
   ]
  },
  {
   "cell_type": "code",
   "execution_count": null,
   "metadata": {},
   "outputs": [],
   "source": []
  }
 ],
 "metadata": {
  "kernelspec": {
   "display_name": "Python 3",
   "language": "python",
   "name": "python3"
  },
  "language_info": {
   "codemirror_mode": {
    "name": "ipython",
    "version": 3
   },
   "file_extension": ".py",
   "mimetype": "text/x-python",
   "name": "python",
   "nbconvert_exporter": "python",
   "pygments_lexer": "ipython3",
   "version": "3.7.1"
  }
 },
 "nbformat": 4,
 "nbformat_minor": 2
}
